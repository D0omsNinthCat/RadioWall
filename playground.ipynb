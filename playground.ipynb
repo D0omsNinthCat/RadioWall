{
 "cells": [
  {
   "cell_type": "markdown",
   "metadata": {},
   "source": [
    "## Playground\n",
    "\n",
    "### Todo\n",
    "- eine Funktion die ein Lat/Long tuple annimmt und die Urls der n nächsten Radiostationen zurückgibt.\n",
    "- eine Funktion die die Koordinaten aus dem erhaltenen Format zu Lat/Long übersetzt.\n",
    "- eine Funktion die die Url einer gewählten Radiostation annimmt und den Audiostream dieser Station ausgibt.\n",
    "- eine Funktion die den Videostream einer Webcam annimmt und Koordinaten ausliest (auf welche Art auch immer)."
   ]
  },
  {
   "cell_type": "code",
   "execution_count": 28,
   "metadata": {},
   "outputs": [],
   "source": [
    "import json\n",
    "import requests\n",
    "\n",
    "r = requests.get('http://radio.garden/api/ara/content/places', headers={'Accept': 'application/json'})\n",
    "r_json = r.json()\n",
    "place_list = r_json[\"data\"][\"list\"]"
   ]
  }
 ],
 "metadata": {
  "kernelspec": {
   "display_name": "Python 3.9.7 ('.venv': venv)",
   "language": "python",
   "name": "python3"
  },
  "language_info": {
   "codemirror_mode": {
    "name": "ipython",
    "version": 3
   },
   "file_extension": ".py",
   "mimetype": "text/x-python",
   "name": "python",
   "nbconvert_exporter": "python",
   "pygments_lexer": "ipython3",
   "version": "3.9.7"
  },
  "orig_nbformat": 4,
  "vscode": {
   "interpreter": {
    "hash": "b079e08dc7b236a813b838cf44b5f676cbf42a7cc5cede8afcf7fb902c9393e3"
   }
  }
 },
 "nbformat": 4,
 "nbformat_minor": 2
}
