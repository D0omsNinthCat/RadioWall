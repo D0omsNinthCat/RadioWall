{
 "cells": [
  {
   "cell_type": "markdown",
   "metadata": {},
   "source": [
    "## Playground\n",
    "\n",
    "### Todo\n",
    "- eine Funktion die ein Lat/Long tuple annimmt und die Urls der n nächsten Radiostationen zurückgibt.\n",
    "- eine Funktion die die Koordinaten aus dem erhaltenen Format zu Lat/Long übersetzt.\n",
    "- eine Funktion die die Url einer gewählten Radiostation annimmt und den Audiostream dieser Station ausgibt.\n",
    "- eine Funktion die den Videostream einer Webcam annimmt und Koordinaten ausliest (auf welche Art auch immer)."
   ]
  },
  {
   "cell_type": "code",
   "execution_count": null,
   "metadata": {},
   "outputs": [],
   "source": [
    "import json\n",
    "import requests\n",
    "'''\n",
    "getting basic list of places. geo field ist a tuple of shape [Long, Lat]\n",
    "'''\n",
    "r = requests.get('http://radio.garden/api/ara/content/places', headers={'Accept': 'application/json'})\n",
    "r_json = r.json()\n",
    "place_list = r_json[\"data\"][\"list\"]\n"
   ]
  },
  {
   "cell_type": "code",
   "execution_count": 53,
   "metadata": {},
   "outputs": [],
   "source": [
    "import geopy.distance\n",
    "'''\n",
    "getting closest places\n",
    "'''\n",
    "pin_location = (48.2083537,16.3725042)\n",
    "n_stations = 50\n",
    "distance_list = [dict(place, distance=geopy.distance.geodesic((place[\"geo\"][1],place[\"geo\"][0]), pin_location).km)  for place in place_list]"
   ]
  },
  {
   "cell_type": "code",
   "execution_count": 50,
   "metadata": {},
   "outputs": [
    {
     "data": {
      "text/plain": [
       "37632"
      ]
     },
     "execution_count": 50,
     "metadata": {},
     "output_type": "execute_result"
    }
   ],
   "source": []
  },
  {
   "cell_type": "code",
   "execution_count": 49,
   "metadata": {},
   "outputs": [
    {
     "ename": "AttributeError",
     "evalue": "'list' object has no attribute 'values'",
     "output_type": "error",
     "traceback": [
      "\u001b[1;31m---------------------------------------------------------------------------\u001b[0m",
      "\u001b[1;31mAttributeError\u001b[0m                            Traceback (most recent call last)",
      "Cell \u001b[1;32mIn [49], line 1\u001b[0m\n\u001b[1;32m----> 1\u001b[0m \u001b[39mprint\u001b[39m(place_list\u001b[39m.\u001b[39;49mvalues())\n",
      "\u001b[1;31mAttributeError\u001b[0m: 'list' object has no attribute 'values'"
     ]
    }
   ],
   "source": [
    "    if sum(place['size'] for place in closest_list) < n_stations:\n",
    "        closest_list.append(place)\n",
    "    else:"
   ]
  }
 ],
 "metadata": {
  "kernelspec": {
   "display_name": "Python 3.9.7 ('.venv': venv)",
   "language": "python",
   "name": "python3"
  },
  "language_info": {
   "codemirror_mode": {
    "name": "ipython",
    "version": 3
   },
   "file_extension": ".py",
   "mimetype": "text/x-python",
   "name": "python",
   "nbconvert_exporter": "python",
   "pygments_lexer": "ipython3",
   "version": "3.9.7"
  },
  "orig_nbformat": 4,
  "vscode": {
   "interpreter": {
    "hash": "b079e08dc7b236a813b838cf44b5f676cbf42a7cc5cede8afcf7fb902c9393e3"
   }
  }
 },
 "nbformat": 4,
 "nbformat_minor": 2
}
