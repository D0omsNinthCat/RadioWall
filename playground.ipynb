{
 "cells": [
  {
   "cell_type": "markdown",
   "metadata": {},
   "source": [
    "## Playground\n",
    "\n",
    "### Todo\n",
    "- eine Funktion die ein Lat/Long tuple annimmt und die Urls der n nächsten Radiostationen zurückgibt.\n",
    "- eine Funktion die die Koordinaten aus dem erhaltenen Format zu Lat/Long übersetzt\n",
    "- eine Funktion die die Url einer gewählten Radiostation annimmt und den Audiostream dieser Station ausgibt\n",
    "- eine Funktion die den Videostream einer Webcam annimmt und Koordinaten ausliest (auf welche Art auch immer)."
   ]
  },
  {
   "cell_type": "code",
   "execution_count": 1,
   "metadata": {},
   "outputs": [],
   "source": [
    "import json\n",
    "import requests"
   ]
  }
 ],
 "metadata": {
  "kernelspec": {
   "display_name": "Python 3.9.7 64-bit",
   "language": "python",
   "name": "python3"
  },
  "language_info": {
   "codemirror_mode": {
    "name": "ipython",
    "version": 3
   },
   "file_extension": ".py",
   "mimetype": "text/x-python",
   "name": "python",
   "nbconvert_exporter": "python",
   "pygments_lexer": "ipython3",
   "version": "3.9.7"
  },
  "orig_nbformat": 4,
  "vscode": {
   "interpreter": {
    "hash": "7806b69e07e918bf727dc324f1086ee4d10bad94b50b9e922eff785539771d3a"
   }
  }
 },
 "nbformat": 4,
 "nbformat_minor": 2
}
